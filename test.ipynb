{
 "cells": [
  {
   "cell_type": "code",
   "execution_count": 11,
   "metadata": {},
   "outputs": [],
   "source": [
    "# Finance Analysis Test Notebook\n",
    "import pandas as pd\n",
    "import numpy as np\n"
   ]
  },
  {
   "cell_type": "markdown",
   "metadata": {},
   "source": [
    "# Load Data"
   ]
  },
  {
   "cell_type": "code",
   "execution_count": 22,
   "metadata": {},
   "outputs": [],
   "source": [
    "\n",
    "from vnstock import Vnstock\n",
    "# Default stock symbol for standalone execution\n",
    "stock_symbol = \"REE\"\n",
    "\n",
    "start_date = '2024-01-01'\n",
    "end_date = '2024-12-31'\n",
    "interval = '1D'\n",
    "\n",
    "# Initialize with a default stock symbol and data source\n",
    "stock = Vnstock().stock(symbol=stock_symbol, source='VCI')\n",
    "stock_price = stock.quote.history(symbol=stock_symbol, start=start_date, end=end_date, interval=interval)"
   ]
  },
  {
   "cell_type": "markdown",
   "metadata": {},
   "source": [
    "# Cook"
   ]
  },
  {
   "cell_type": "code",
   "execution_count": 23,
   "metadata": {},
   "outputs": [
    {
     "data": {
      "text/html": [
       "<div>\n",
       "<style scoped>\n",
       "    .dataframe tbody tr th:only-of-type {\n",
       "        vertical-align: middle;\n",
       "    }\n",
       "\n",
       "    .dataframe tbody tr th {\n",
       "        vertical-align: top;\n",
       "    }\n",
       "\n",
       "    .dataframe thead th {\n",
       "        text-align: right;\n",
       "    }\n",
       "</style>\n",
       "<table border=\"1\" class=\"dataframe\">\n",
       "  <thead>\n",
       "    <tr style=\"text-align: right;\">\n",
       "      <th></th>\n",
       "      <th>open</th>\n",
       "      <th>high</th>\n",
       "      <th>low</th>\n",
       "      <th>close</th>\n",
       "      <th>volume</th>\n",
       "    </tr>\n",
       "    <tr>\n",
       "      <th>time</th>\n",
       "      <th></th>\n",
       "      <th></th>\n",
       "      <th></th>\n",
       "      <th></th>\n",
       "      <th></th>\n",
       "    </tr>\n",
       "  </thead>\n",
       "  <tbody>\n",
       "    <tr>\n",
       "      <th>2024-01-02</th>\n",
       "      <td>42.21</td>\n",
       "      <td>42.80</td>\n",
       "      <td>41.91</td>\n",
       "      <td>42.21</td>\n",
       "      <td>779590</td>\n",
       "    </tr>\n",
       "    <tr>\n",
       "      <th>2024-01-03</th>\n",
       "      <td>42.21</td>\n",
       "      <td>42.43</td>\n",
       "      <td>41.91</td>\n",
       "      <td>42.28</td>\n",
       "      <td>376152</td>\n",
       "    </tr>\n",
       "    <tr>\n",
       "      <th>2024-01-04</th>\n",
       "      <td>42.50</td>\n",
       "      <td>43.16</td>\n",
       "      <td>42.21</td>\n",
       "      <td>42.36</td>\n",
       "      <td>899128</td>\n",
       "    </tr>\n",
       "    <tr>\n",
       "      <th>2024-01-05</th>\n",
       "      <td>42.36</td>\n",
       "      <td>42.43</td>\n",
       "      <td>42.06</td>\n",
       "      <td>42.14</td>\n",
       "      <td>555100</td>\n",
       "    </tr>\n",
       "    <tr>\n",
       "      <th>2024-01-08</th>\n",
       "      <td>42.14</td>\n",
       "      <td>42.43</td>\n",
       "      <td>41.69</td>\n",
       "      <td>41.69</td>\n",
       "      <td>920506</td>\n",
       "    </tr>\n",
       "    <tr>\n",
       "      <th>...</th>\n",
       "      <td>...</td>\n",
       "      <td>...</td>\n",
       "      <td>...</td>\n",
       "      <td>...</td>\n",
       "      <td>...</td>\n",
       "    </tr>\n",
       "    <tr>\n",
       "      <th>2024-12-25</th>\n",
       "      <td>57.90</td>\n",
       "      <td>59.79</td>\n",
       "      <td>57.90</td>\n",
       "      <td>58.93</td>\n",
       "      <td>1078560</td>\n",
       "    </tr>\n",
       "    <tr>\n",
       "      <th>2024-12-26</th>\n",
       "      <td>59.01</td>\n",
       "      <td>59.10</td>\n",
       "      <td>58.33</td>\n",
       "      <td>58.33</td>\n",
       "      <td>372493</td>\n",
       "    </tr>\n",
       "    <tr>\n",
       "      <th>2024-12-27</th>\n",
       "      <td>58.67</td>\n",
       "      <td>58.67</td>\n",
       "      <td>58.07</td>\n",
       "      <td>58.33</td>\n",
       "      <td>413683</td>\n",
       "    </tr>\n",
       "    <tr>\n",
       "      <th>2024-12-30</th>\n",
       "      <td>57.90</td>\n",
       "      <td>58.41</td>\n",
       "      <td>57.47</td>\n",
       "      <td>57.47</td>\n",
       "      <td>412076</td>\n",
       "    </tr>\n",
       "    <tr>\n",
       "      <th>2024-12-31</th>\n",
       "      <td>57.64</td>\n",
       "      <td>58.24</td>\n",
       "      <td>57.13</td>\n",
       "      <td>58.24</td>\n",
       "      <td>402044</td>\n",
       "    </tr>\n",
       "  </tbody>\n",
       "</table>\n",
       "<p>250 rows × 5 columns</p>\n",
       "</div>"
      ],
      "text/plain": [
       "             open   high    low  close   volume\n",
       "time                                           \n",
       "2024-01-02  42.21  42.80  41.91  42.21   779590\n",
       "2024-01-03  42.21  42.43  41.91  42.28   376152\n",
       "2024-01-04  42.50  43.16  42.21  42.36   899128\n",
       "2024-01-05  42.36  42.43  42.06  42.14   555100\n",
       "2024-01-08  42.14  42.43  41.69  41.69   920506\n",
       "...           ...    ...    ...    ...      ...\n",
       "2024-12-25  57.90  59.79  57.90  58.93  1078560\n",
       "2024-12-26  59.01  59.10  58.33  58.33   372493\n",
       "2024-12-27  58.67  58.67  58.07  58.33   413683\n",
       "2024-12-30  57.90  58.41  57.47  57.47   412076\n",
       "2024-12-31  57.64  58.24  57.13  58.24   402044\n",
       "\n",
       "[250 rows x 5 columns]"
      ]
     },
     "execution_count": 23,
     "metadata": {},
     "output_type": "execute_result"
    }
   ],
   "source": [
    "stock_price.set_index('time', inplace=True)\n",
    "stock_price"
   ]
  },
  {
   "cell_type": "markdown",
   "metadata": {},
   "source": [
    "## Stock Returns Calculations"
   ]
  },
  {
   "cell_type": "code",
   "execution_count": null,
   "metadata": {},
   "outputs": [],
   "source": [
    "stock_returns = np.log(stock_price['close']/stock_price['close'].shift(1))\n",
    "stock_returns.dropna()\n",
    "stock_returns.mean()"
   ]
  },
  {
   "cell_type": "code",
   "execution_count": null,
   "metadata": {},
   "outputs": [],
   "source": []
  }
 ],
 "metadata": {
  "kernelspec": {
   "display_name": "financebro",
   "language": "python",
   "name": "financebro"
  },
  "language_info": {
   "codemirror_mode": {
    "name": "ipython",
    "version": 3
   },
   "file_extension": ".py",
   "mimetype": "text/x-python",
   "name": "python",
   "nbconvert_exporter": "python",
   "pygments_lexer": "ipython3",
   "version": "3.10.11"
  }
 },
 "nbformat": 4,
 "nbformat_minor": 4
}
